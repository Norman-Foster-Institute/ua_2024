{
  "cells": [
    {
      "cell_type": "markdown",
      "id": "2527fa0b-ed43-4409-80e2-e157b0dac462",
      "metadata": {},
      "source": [
        "# Python Notebooks\n",
        "\n",
        "## Acknowledgements\n",
        "\n",
        "This Notebook is based on ‘Let the snake in’ from the _[A taste of Python](https://geo-python-site.readthedocs.io/en/latest/notebooks/L1/a-taste-of-python.html)_ section of the _[Geo-Python](https://geo-python-site.readthedocs.io) course 2022_ by D. Whipp, H. Tenkanen, V. Heikinheimo, H. Aagesen, and C. Fink from the Department of Geosciences and Geography, University of Helsinki, licensed under CC-BY-SA 4.0.\n"
      ]
    },
    {
      "cell_type": "markdown",
      "id": "dfd6173d",
      "metadata": {},
      "source": [
        "## Simple Python math\n",
        "\n",
        "Python can be used as a simple calculator. Remember, you can press <span class=\"keystroke\">Shift</span> + <span class=\"keystroke\">Enter</span> to execute the code in the cells below. Try it out by typing some simple math into new cells and see what you get.\n"
      ]
    },
    {
      "cell_type": "code",
      "execution_count": 21,
      "id": "cd7f49c3",
      "metadata": {},
      "outputs": [
        {
          "data": {
            "text/plain": [
              "504"
            ]
          },
          "execution_count": 21,
          "metadata": {},
          "output_type": "execute_result"
        }
      ],
      "source": [
        "42 * 12"
      ]
    },
    {
      "cell_type": "code",
      "execution_count": 22,
      "id": "a87ab419",
      "metadata": {},
      "outputs": [
        {
          "data": {
            "text/plain": [
              "4.0"
            ]
          },
          "execution_count": 22,
          "metadata": {},
          "output_type": "execute_result"
        }
      ],
      "source": [
        "12 / 3"
      ]
    },
    {
      "cell_type": "markdown",
      "id": "1aeb4962",
      "metadata": {},
      "source": [
        "If you want to edit and re-run some code, change the cell and press\n",
        "<span class=\"keystroke\">Shift</span> +\n",
        "<span class=\"keystroke\">Enter</span> to execute the modified code.\n"
      ]
    },
    {
      "cell_type": "markdown",
      "id": "0f65cbf9-0fb1-40c8-afc4-758ca65350ab",
      "metadata": {},
      "source": [
        "## Functions\n",
        "\n",
        "You can use Python for more advanced math by using a function. Functions are pieces of code that perform a single action, such as printing information to the screen (e.g., the `print()` function). Functions exist for a huge number of operations in Python.\n",
        "\n",
        "Let’s try out a few simple examples using functions to find the sin or square root of a value. You can type `sin(3)` or `sqrt(4)` into the cells below to test this out.\n"
      ]
    },
    {
      "cell_type": "code",
      "execution_count": 23,
      "id": "baa3a44d",
      "metadata": {},
      "outputs": [
        {
          "ename": "NameError",
          "evalue": "name 'sin' is not defined",
          "output_type": "error",
          "traceback": [
            "\u001b[0;31m---------------------------------------------------------------------------\u001b[0m",
            "\u001b[0;31mNameError\u001b[0m                                 Traceback (most recent call last)",
            "Cell \u001b[0;32mIn[23], line 1\u001b[0m\n\u001b[0;32m----> 1\u001b[0m sin(\u001b[38;5;241m3\u001b[39m)\n",
            "\u001b[0;31mNameError\u001b[0m: name 'sin' is not defined"
          ]
        }
      ],
      "source": [
        "sin(3)"
      ]
    },
    {
      "cell_type": "code",
      "execution_count": 24,
      "id": "a105b19e",
      "metadata": {},
      "outputs": [
        {
          "ename": "NameError",
          "evalue": "name 'sqrt' is not defined",
          "output_type": "error",
          "traceback": [
            "\u001b[0;31m---------------------------------------------------------------------------\u001b[0m",
            "\u001b[0;31mNameError\u001b[0m                                 Traceback (most recent call last)",
            "Cell \u001b[0;32mIn[24], line 1\u001b[0m\n\u001b[0;32m----> 1\u001b[0m sqrt(\u001b[38;5;241m4\u001b[39m)\n",
            "\u001b[0;31mNameError\u001b[0m: name 'sqrt' is not defined"
          ]
        }
      ],
      "source": [
        "sqrt(4)"
      ]
    },
    {
      "cell_type": "markdown",
      "id": "9a943c6c",
      "metadata": {},
      "source": [
        "Well, that didn’t work. Python can calculate square roots or do basic trigonometry, but we need one more step.\n"
      ]
    },
    {
      "cell_type": "markdown",
      "id": "6a99ac27-e6a9-4078-aa98-ce938b44e232",
      "metadata": {},
      "source": [
        "### Math operations\n",
        "\n",
        "The table below shows the list of basic arithmetic operations that can\n",
        "be done by default in Python.\n",
        "\n",
        "| Operation      | Symbol | Example syntax | Returned value |\n",
        "| -------------- | ------ | -------------- | -------------- |\n",
        "| Addition       | `+`    | `2 + 2`        | `4`            |\n",
        "| Subtraction    | `-`    | `4 - 2`        | `2`            |\n",
        "| Multiplication | `*`    | `2 * 3`        | `6`            |\n",
        "| Division       | `/`    | `4 / 2`        | `2`            |\n",
        "| Exponentiation | `**`   | `2 ** 3`       | `8`            |\n",
        "\n",
        "For anything more advanced, we need to load a\n",
        "<span class=\"accent\">module</span> or a\n",
        "<span class=\"accent\">package</span>. For math operations, this module is\n",
        "called `math` and can be loaded by typing `import math`.\n"
      ]
    },
    {
      "cell_type": "code",
      "execution_count": 25,
      "id": "ffa3c29e",
      "metadata": {},
      "outputs": [],
      "source": [
        "import math"
      ]
    },
    {
      "cell_type": "markdown",
      "id": "01ae9c94-ee76-4467-bab3-cc0922a2ff3d",
      "metadata": {},
      "source": [
        "Now that we have access to functions in the `math` module, we can use it\n",
        "by typing the module name, a period (dot), and the name of the function\n",
        "we want to use. For example, `math.sin(3)`. Try this with the sine and\n",
        "square root examples from above.\n"
      ]
    },
    {
      "cell_type": "code",
      "execution_count": 26,
      "id": "5788b734",
      "metadata": {},
      "outputs": [
        {
          "data": {
            "text/plain": [
              "0.1411200080598672"
            ]
          },
          "execution_count": 26,
          "metadata": {},
          "output_type": "execute_result"
        }
      ],
      "source": [
        "math.sin(3)"
      ]
    },
    {
      "cell_type": "code",
      "execution_count": 27,
      "id": "bd87e38d",
      "metadata": {},
      "outputs": [
        {
          "data": {
            "text/plain": [
              "2.0"
            ]
          },
          "execution_count": 27,
          "metadata": {},
          "output_type": "execute_result"
        }
      ],
      "source": [
        "math.sqrt(4)"
      ]
    },
    {
      "cell_type": "markdown",
      "id": "f81caf65-75af-441e-b51b-afa3a42e0626",
      "metadata": {},
      "source": [
        "Let’s summarise what you’ve just done with modules:\n",
        "\n",
        "1.  A _module_ is a group of code items, such as functions, related to\n",
        "    one another. Individual modules are often in a group called a\n",
        "    _package_.\n",
        "\n",
        "2.  Modules can be loaded using `import`. Functions that are part of the\n",
        "    module `modulename` can then be used by typing\n",
        "    `modulename.functionname()`. For example, `sin()` is a function that\n",
        "    is part of the `math` module and is used by typing `math.sin()` with\n",
        "    some number between the parentheses.\n",
        "\n",
        "3.  Within a Jupyter Notebook, the variables you defined earlier in the\n",
        "    notebook will be available for use in the following cells as long as\n",
        "    you have executed the cells.\n",
        "\n",
        "4.  Modules may also contain constants such as `math.pi` (notice no\n",
        "    parentheses at the end). Type this in the cell below to see the\n",
        "    constant’s `math.pi` value.\n"
      ]
    },
    {
      "cell_type": "code",
      "execution_count": 28,
      "id": "3f666f3c",
      "metadata": {},
      "outputs": [
        {
          "data": {
            "text/plain": [
              "3.141592653589793"
            ]
          },
          "execution_count": 28,
          "metadata": {},
          "output_type": "execute_result"
        }
      ],
      "source": [
        "math.pi"
      ]
    },
    {
      "cell_type": "markdown",
      "id": "d1e40e60-464c-4de2-95d0-336cea5599b9",
      "metadata": {},
      "source": [
        "### Combining functions\n",
        "\n",
        "Functions can also be combined. The `print()` function returns values\n",
        "within the parentheses as text on the screen. Below, try printing the\n",
        "value of the square root of four.\n"
      ]
    },
    {
      "cell_type": "code",
      "execution_count": 29,
      "id": "615dc5cb",
      "metadata": {},
      "outputs": [
        {
          "name": "stdout",
          "output_type": "stream",
          "text": [
            "2.0\n"
          ]
        }
      ],
      "source": [
        "print(math.sqrt(4))"
      ]
    },
    {
      "cell_type": "markdown",
      "id": "73a6f10a-b19b-4999-b2e7-1abb117834fd",
      "metadata": {},
      "source": [
        "You can also combine text with other calculated values using the\n",
        "`print()` function. For example, `print('Two plus two is', 2+2)` would\n",
        "generate the text reading `'Two plus two is 4'`. Combine the `print()`\n",
        "function with the `math.sqrt()` function in the cell below to produce\n",
        "text that reads `'The square root of 4 is 2.0'`.\n"
      ]
    },
    {
      "cell_type": "code",
      "execution_count": 30,
      "id": "d7e753a3",
      "metadata": {},
      "outputs": [
        {
          "name": "stdout",
          "output_type": "stream",
          "text": [
            "The square root of 4 is 2.0\n"
          ]
        }
      ],
      "source": [
        "print(\"The square root of 4 is\", math.sqrt(4))"
      ]
    },
    {
      "cell_type": "markdown",
      "id": "092bccdb-7ece-4197-a79e-19983dbaeeaf",
      "metadata": {},
      "source": [
        "## Variables\n",
        "\n",
        "A <span class=\"accent\">variable</span> can store values calculated in\n",
        "expressions and used for other calculations. Assigning value to\n",
        "variables is straightforward. To assign a value, you type\n",
        "`variable_name = value`, where `variable_name` is the name of the\n",
        "variable you wish to define. In the cell below, define a variable called\n",
        "`temp_celsius`, assign it a value of `10.0`, and then print that\n",
        "variable value using the `print()` function. Note that you should do\n",
        "this on two separate lines.\n"
      ]
    },
    {
      "cell_type": "code",
      "execution_count": 31,
      "id": "ee916f66",
      "metadata": {},
      "outputs": [
        {
          "name": "stdout",
          "output_type": "stream",
          "text": [
            "10.0\n"
          ]
        }
      ],
      "source": [
        "temp_celsius = 10.0\n",
        "print(temp_celsius)"
      ]
    },
    {
      "cell_type": "markdown",
      "id": "5a00d990-de85-49ed-a7c7-ced2b9b98b23",
      "metadata": {},
      "source": [
        "As we did above, you can combine text and even use some math when\n",
        "printing out variable values. The idea is similar to adding 2+2 or\n",
        "calculating the square root of four from the previous section. In the\n",
        "cell below, print out the value of `temp_celsius` in degrees Fahrenheit\n",
        "by multiplying `temp_celsius` by 9/5 and adding 32. This should be done\n",
        "within the `print()` function to produce output that reads\n",
        "`'Temperature in Fahrenheit: 50.0'`.\n"
      ]
    },
    {
      "cell_type": "code",
      "execution_count": 32,
      "id": "27f74fd4",
      "metadata": {},
      "outputs": [
        {
          "name": "stdout",
          "output_type": "stream",
          "text": [
            "Temperature in Fahrenheit: 50.0\n"
          ]
        }
      ],
      "source": [
        "print(\"Temperature in Fahrenheit:\", 9 / 5 * temp_celsius + 32)"
      ]
    },
    {
      "cell_type": "markdown",
      "id": "b27a1350-b413-47b1-8bc6-a11e090ada35",
      "metadata": {},
      "source": [
        "### Updating variables\n",
        "\n",
        "Values stored in variables can also be updated. Let’s redefine the value\n",
        "of `temp_celsius` to be equal to 15.0 and print its value in the cells\n",
        "below.\n"
      ]
    },
    {
      "cell_type": "code",
      "execution_count": 33,
      "id": "a454db0b",
      "metadata": {},
      "outputs": [],
      "source": [
        "temp_celsius = 15.0"
      ]
    },
    {
      "cell_type": "code",
      "execution_count": 34,
      "id": "580341c9",
      "metadata": {},
      "outputs": [
        {
          "name": "stdout",
          "output_type": "stream",
          "text": [
            "temperature in Celsius is now: 15.0\n"
          ]
        }
      ],
      "source": [
        "print(\"temperature in Celsius is now:\", temp_celsius)"
      ]
    },
    {
      "cell_type": "markdown",
      "id": "4fdb90e1-c060-4689-bb93-7c9e80ea3310",
      "metadata": {},
      "source": [
        "> **Warning**\n",
        ">\n",
        "> If you try to run some code that accesses a variable that has not yet\n",
        "> been defined, you will get a `NameError` message. Try printing out the\n",
        "> value of the variable `temp_fahrenheit` using the `print()` function\n",
        "> in the cell below.\n"
      ]
    },
    {
      "cell_type": "code",
      "execution_count": 35,
      "id": "cfe8e0cc",
      "metadata": {},
      "outputs": [
        {
          "name": "stdout",
          "output_type": "stream",
          "text": [
            "Temperature in Celsius: 15.0\n"
          ]
        }
      ],
      "source": [
        "print(\"Temperature in Celsius:\", 5 / 9 * (temp_fahrenheit - 32))"
      ]
    },
    {
      "cell_type": "markdown",
      "id": "6b9ed651-60ad-41bc-8b38-3c90b292a81b",
      "metadata": {},
      "source": [
        "> **Note**\n",
        ">\n",
        "> One of the interesting things here is that if we define the undefined\n",
        "> variable in a cell lower down in the notebook and execute that cell,\n",
        "> we can return to the earlier cell, and the code should now work. That\n",
        "> was a bit of a complicated sentence, so let’s test this all out.\n",
        "> First, let’s define a variable called `temp_fahrenheit` in the cell\n",
        "> below and assign it to be equal to `9/5 * temp_celsius + 32`, the\n",
        "> conversion factor from temperatures in Celsius to Fahrenheit. Then,\n",
        "> return to the cell above this text and run that cell again. See how\n",
        "> the error message has gone away? `temp_fahrenheit` has now been\n",
        "> defined, and thus, the cell above no longer generates a `NameError`\n",
        "> when the code is executed.\n",
        ">\n",
        "> Also, the number beside the cell, for example, `In [2]`, tells you the\n",
        "> order in which the Python cells have been executed. This way, you can\n",
        "> see a history of the order in which you have run the cells.\n"
      ]
    },
    {
      "cell_type": "code",
      "execution_count": 36,
      "id": "c11efe0c",
      "metadata": {},
      "outputs": [],
      "source": [
        "temp_fahrenheit = 9 / 5 * temp_celsius + 32"
      ]
    },
    {
      "cell_type": "markdown",
      "id": "017f61c0-fa59-44f0-8987-efd6476112e9",
      "metadata": {},
      "source": [
        "To check their current values, print out the values of `temp_celsius`\n",
        "and `temp_fahrenheit` in the cell below.\n"
      ]
    },
    {
      "cell_type": "code",
      "execution_count": 37,
      "id": "78a4f383",
      "metadata": {},
      "outputs": [
        {
          "name": "stdout",
          "output_type": "stream",
          "text": [
            "temperature in Celsius: 15.0 and in Fahrenheit: 59.0\n"
          ]
        }
      ],
      "source": [
        "print(\"temperature in Celsius:\", temp_celsius, \"and in Fahrenheit:\", temp_fahrenheit)"
      ]
    },
    {
      "cell_type": "markdown",
      "id": "e8c915a3-7577-440e-92ef-5f7530c90c03",
      "metadata": {},
      "source": [
        "## Data types\n",
        "\n",
        "A <span class=\"accent\">data type</span> determines the characteristics\n",
        "of data in a program. There are four basic data types in Python, as\n",
        "shown in the table below.\n",
        "\n",
        "| Data type name | Data type            | Example  |\n",
        "| -------------- | -------------------- | -------- |\n",
        "| `int`          | Whole integer values | `4`      |\n",
        "| `float`        | Decimal values       | `3.1415` |\n",
        "| `str`          | Character strings    | `'Hot'`  |\n",
        "| `bool`         | True/false values    | `True`   |\n",
        "\n",
        "The data type can be found using the `type()` function. As you will see,\n",
        "the data types are essential because some are incompatible.\n",
        "\n",
        "Let’s define a variable `weather_forecast` and assign it the value\n",
        "`'Hot'`. After this, we can check its data type using the `type()`\n",
        "function.\n"
      ]
    },
    {
      "cell_type": "code",
      "execution_count": 38,
      "id": "239705d9",
      "metadata": {},
      "outputs": [
        {
          "data": {
            "text/plain": [
              "str"
            ]
          },
          "execution_count": 38,
          "metadata": {},
          "output_type": "execute_result"
        }
      ],
      "source": [
        "weather_forecast = \"Hot\"\n",
        "type(weather_forecast)"
      ]
    },
    {
      "cell_type": "markdown",
      "id": "5242ee06-ebd0-4b91-b2dc-268f87ed46d9",
      "metadata": {},
      "source": [
        "Let’s also check the type of `temp_fahrenheit`. What happens if you try\n",
        "to combine `temp_fahrenheit` and `weather_forecast` in a single math\n",
        "equation such as\n",
        "`temp_fahrenheit = temp_fahrenheit + 5.0 * weather_forecast`?\n"
      ]
    },
    {
      "cell_type": "code",
      "execution_count": 39,
      "id": "04ecfcd9",
      "metadata": {},
      "outputs": [
        {
          "data": {
            "text/plain": [
              "float"
            ]
          },
          "execution_count": 39,
          "metadata": {},
          "output_type": "execute_result"
        }
      ],
      "source": [
        "type(temp_fahrenheit)"
      ]
    },
    {
      "cell_type": "code",
      "execution_count": 40,
      "id": "81b8cda1",
      "metadata": {},
      "outputs": [
        {
          "ename": "TypeError",
          "evalue": "can't multiply sequence by non-int of type 'float'",
          "output_type": "error",
          "traceback": [
            "\u001b[0;31m---------------------------------------------------------------------------\u001b[0m",
            "\u001b[0;31mTypeError\u001b[0m                                 Traceback (most recent call last)",
            "Cell \u001b[0;32mIn[40], line 1\u001b[0m\n\u001b[0;32m----> 1\u001b[0m temp_fahrenheit \u001b[38;5;241m=\u001b[39m temp_fahrenheit \u001b[38;5;241m+\u001b[39m \u001b[38;5;241m5.0\u001b[39m \u001b[38;5;241m*\u001b[39m weather_forecast\n",
            "\u001b[0;31mTypeError\u001b[0m: can't multiply sequence by non-int of type 'float'"
          ]
        }
      ],
      "source": [
        "temp_fahrenheit = temp_fahrenheit + 5.0 * weather_forecast"
      ]
    },
    {
      "cell_type": "markdown",
      "id": "8f1d588f-2aed-492b-939c-f0ddfc5ac175",
      "metadata": {},
      "source": [
        "In this case, we get at `TypeError` because we are trying to execute a math operation with data types that are not compatible. There is no way in Python to multiply numbers with a character string.\n"
      ]
    }
  ],
  "metadata": {
    "kernelspec": {
      "display_name": "nfiua",
      "language": "python",
      "name": "python3"
    },
    "language_info": {
      "codemirror_mode": {
        "name": "ipython",
        "version": 3
      },
      "file_extension": ".py",
      "mimetype": "text/x-python",
      "name": "python",
      "nbconvert_exporter": "python",
      "pygments_lexer": "ipython3",
      "version": "3.11.5"
    }
  },
  "nbformat": 4,
  "nbformat_minor": 5
}
