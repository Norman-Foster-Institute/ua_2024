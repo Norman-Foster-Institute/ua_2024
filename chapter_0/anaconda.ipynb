{
  "cells": [
    {
      "cell_type": "raw",
      "metadata": {},
      "source": [
        "---\n",
        "title: Python Notebooks\n",
        "---"
      ],
      "id": "5cdc8ddb"
    },
    {
      "cell_type": "markdown",
      "metadata": {},
      "source": [
        "## Overview\n",
        "\n",
        "Welcome to the first **hands-on** section of the course where you will familiarise yourself with Jupyter Lab for running Python 'Notebooks'.\n",
        "\n",
        "This guide assumes the prior installation of Anaconda as detailed previously.\n",
        "\n",
        "### Creating an Environment\n",
        "\n",
        "Create a new \"environment\" the first time you use Anaconda. Environments ensure that packages remain self-contained and make it easier to synchronise packages without unnecessary contamination from unrelated projects.\n",
        "\n",
        "- Open Anaconda Navigator.\n",
        "- Click on Environments\n",
        "- Click to create a new environment called `nfi`.\n",
        "- Select the newly created `nfi` environment from the list of environments.\n",
        "- In the right pane, change the dropdown view mode to \"Not Installed\".\n",
        "- Search for `jupyterlab`, then select it and click to install.\n",
        "- Select the Home button to return to the main view.\n",
        "\n",
        "### Launching Jupyter Lab\n",
        "\n",
        "To launch Juptyer Lab:\n",
        "\n",
        "- Open Anaconda Navigator.\n",
        "- Using the top dropdown menus, select \"All applications\" and select the newly created \"nfi\" environment.\n",
        "- Click to launch \"Jupyter Lab\" from the list of applications. This will launch a new Jupyter Lab instance in a web browser.\n",
        "- Use the \"Python 3\" kernel if prompted.\n",
        "\n",
        "::: {.callout-tip}\n",
        "Don't confuse the \"Jupyer Lab\" with the \"Jupyter Notebook\" apps. The former is a newer replacement for the latter.\n",
        ":::\n",
        "\n",
        "### Opening a Python Notebook\n",
        "\n",
        "You can now create a new Notebook or, otherwise, open an existing Python Notebook. Notebooks are composed of cells.\n",
        "\n",
        "![Jupyter Notebook cell](./images/jupyter-cell.png)\n",
        "\n",
        "Cells can either consist of code or `Markdown` formatted text. A typical notebook consists of a series of cells; some would include text with explanations or background information, while others would contain the executable code. The code in the cells has to be \"executed\" by ppressing the play button. Once executed, the code will generate outputs showing the results of the computation.\n",
        "\n",
        "You can try creating your own cell content and experimenting with running the cells. Remember that the cells are only aware of previously executed cells. We can start with simple math that Python can do natively. Run the following code cell in your notebook. After inserting the text, you can either click the “play” button or press the <span class=\"keystroke\">Shift</span> + <span class=\"keystroke\">Enter</span> keys.\n"
      ],
      "id": "836e2ba9"
    },
    {
      "cell_type": "code",
      "metadata": {},
      "source": [
        "# this will display the number \"2\" once the cell is executed\n",
        "1 + 1"
      ],
      "id": "be3c4e16",
      "execution_count": null,
      "outputs": []
    },
    {
      "cell_type": "markdown",
      "metadata": {},
      "source": [
        "You can also try using variables and printing:"
      ],
      "id": "6c267d56"
    },
    {
      "cell_type": "code",
      "metadata": {},
      "source": [
        "# this stores the calculation in \"my_variable\"\n",
        "my_variable = 2 * 10 / 3\n",
        "# this prints the variable using \"f-string\" interpolation\n",
        "print(f'The calculation result is: {my_variable}')\n",
        "# let's round the number to two decimal places\n",
        "print(f'The rounded result is: {round(my_variable, 2)}')"
      ],
      "id": "87a81f5a",
      "execution_count": null,
      "outputs": []
    },
    {
      "cell_type": "markdown",
      "metadata": {},
      "source": [
        "### Closing Jupyter Lab\n",
        "\n",
        "Shut down Jupyter Lab from the menubar in the web interface using [File]{.keystroke} > [Shut Down]{.keystroke}.\n",
        "\n",
        "![Shut down Jupyter Lab](./images/jupyter-shut-down.png){width=300}\n",
        "\n",
        "### Alternative B: Google Colab\n",
        "\n",
        "If you are unable to install an environment using the instructions above, you can follow the course using [Google Colab](https://colab.research.google.com). You will need to install any required packages to your Colab environment. Reach out in class if you need help getting set up.\n",
        "\n",
        "### Alternative C: The command line\n",
        "\n",
        "If you already have experience with Python, IDEs, and the command line, feel free to setup your development environment accordingly. The method for doing so will depend on your operating system and your preference for IDEs. We recommend _VSCode_ as an IDE."
      ],
      "id": "2f91bb69"
    }
  ],
  "metadata": {
    "kernelspec": {
      "name": "python3",
      "language": "python",
      "display_name": "Python 3 (ipykernel)"
    }
  },
  "nbformat": 4,
  "nbformat_minor": 5
}